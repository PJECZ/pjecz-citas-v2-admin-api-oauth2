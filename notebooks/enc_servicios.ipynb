{
 "cells": [
  {
   "cell_type": "markdown",
   "metadata": {},
   "source": [
    "# Encuesta Servicios"
   ]
  },
  {
   "cell_type": "code",
   "execution_count": null,
   "metadata": {},
   "outputs": [],
   "source": [
    "# Cargar paquetes\n",
    "from datetime import datetime\n",
    "import pandas as pd\n",
    "from sqlalchemy import and_, or_\n",
    "from sqlalchemy.sql import func\n",
    "from lib.database import SessionLocal\n",
    "db = SessionLocal()\n",
    "from tabulate import tabulate"
   ]
  },
  {
   "cell_type": "code",
   "execution_count": null,
   "metadata": {},
   "outputs": [],
   "source": [
    "# Cargar modelos\n",
    "from citas_admin.v2.autoridades.models import Autoridad\n",
    "from citas_admin.v2.cit_categorias.models import CitCategoria\n",
    "from citas_admin.v2.cit_citas.models import CitCita\n",
    "from citas_admin.v2.cit_clientes.models import CitCliente\n",
    "from citas_admin.v2.cit_clientes_recuperaciones.models import CitClienteRecuperacion\n",
    "from citas_admin.v2.cit_clientes_registros.models import CitClienteRegistro\n",
    "from citas_admin.v2.cit_dias_inhabiles.models import CitDiaInhabil\n",
    "from citas_admin.v2.cit_horas_bloqueadas.models import CitHoraBloqueada\n",
    "from citas_admin.v2.cit_oficinas_servicios.models import CitOficinaServicio\n",
    "from citas_admin.v2.cit_servicios.models import CitServicio\n",
    "from citas_admin.v2.distritos.models import Distrito\n",
    "from citas_admin.v2.domicilios.models import Domicilio\n",
    "from citas_admin.v2.enc_servicios.models import EncServicio\n",
    "from citas_admin.v2.enc_sistemas.models import EncSistema\n",
    "from citas_admin.v2.materias.models import Materia\n",
    "from citas_admin.v2.modulos.models import Modulo\n",
    "from citas_admin.v2.oficinas.models import Oficina\n",
    "from citas_admin.v2.permisos.models import Permiso\n",
    "from citas_admin.v2.roles.models import Rol\n",
    "from citas_admin.v2.usuarios.models import Usuario\n",
    "from citas_admin.v2.usuarios_roles.models import UsuarioRol"
   ]
  },
  {
   "cell_type": "code",
   "execution_count": null,
   "metadata": {},
   "outputs": [],
   "source": [
    "enc_servicios = db.query(EncServicio.id, EncServicio.estado, EncServicio.oficina_id).limit(10)\n",
    "print(enc_servicios.all())"
   ]
  },
  {
   "cell_type": "code",
   "execution_count": null,
   "metadata": {},
   "outputs": [],
   "source": [
    "enc_servicios = db.query(\n",
    "    EncServicio.estado.label(\"estado\"),\n",
    "    func.count(\"*\").label(\"cantidad\"),\n",
    ").group_by(EncServicio.estado)\n",
    "for estado, cantidad in enc_servicios.all():\n",
    "    print(f\"Estado {estado} tiene {cantidad}\")"
   ]
  },
  {
   "cell_type": "code",
   "execution_count": null,
   "metadata": {},
   "outputs": [],
   "source": [
    "conteo_respuesta_01 = db.\\\n",
    "    query(\n",
    "        EncServicio.respuesta_01.label(\"respuesta_01\"),\n",
    "        func.count(\"*\").label(\"cantidad\"),\n",
    "    ).\\\n",
    "    filter(EncServicio.respuesta_01 != None).\\\n",
    "    group_by(EncServicio.respuesta_01)\n",
    "\n",
    "tabla = tabulate(conteo_respuesta_01.all(), [\"respuesta_01\", \"cantidad\"])\n",
    "print(tabla)"
   ]
  },
  {
   "cell_type": "code",
   "execution_count": null,
   "metadata": {},
   "outputs": [],
   "source": [
    "subquery1 = db.\\\n",
    "    query(\n",
    "        func.count(EncServicio.respuesta_01).filter(EncServicio.respuesta_01 == 1).label(\"muy_dificil\"),\n",
    "        func.count(EncServicio.respuesta_01).filter(EncServicio.respuesta_01 == 2).label(\"dificil\"),\n",
    "        func.count(EncServicio.respuesta_01).filter(EncServicio.respuesta_01 == 3).label(\"neutro\"),\n",
    "        func.count(EncServicio.respuesta_01).filter(EncServicio.respuesta_01 == 4).label(\"facil\"),\n",
    "        func.count(EncServicio.respuesta_01).filter(EncServicio.respuesta_01 == 5).label(\"muy_facil\"),\n",
    "    ).subquery()\n",
    "\n",
    "subquery2 = db.\\\n",
    "    query(\n",
    "        func.count(EncServicio.respuesta_02).filter(EncServicio.respuesta_02 == 1).label(\"muy_dificil\"),\n",
    "        func.count(EncServicio.respuesta_02).filter(EncServicio.respuesta_02 == 2).label(\"dificil\"),\n",
    "        func.count(EncServicio.respuesta_02).filter(EncServicio.respuesta_02 == 3).label(\"neutro\"),\n",
    "        func.count(EncServicio.respuesta_02).filter(EncServicio.respuesta_02 == 4).label(\"facil\"),\n",
    "        func.count(EncServicio.respuesta_02).filter(EncServicio.respuesta_02 == 5).label(\"muy_facil\"),\n",
    "    ).subquery()\n",
    "\n",
    "todo = db.query(subquery1, subquery2)\n",
    "print(tabulate(todo.all()))"
   ]
  },
  {
   "cell_type": "code",
   "execution_count": null,
   "metadata": {},
   "outputs": [],
   "source": [
    "import pandas as pd\n",
    "\n",
    "cant_01 = db.\\\n",
    "    query(EncServicio.respuesta_01.label(\"respuesta\"), func.count(\"*\").label(\"cantidad\")).\\\n",
    "    filter(EncServicio.respuesta_01 != None).\\\n",
    "    group_by(EncServicio.respuesta_01)\n",
    "cant_01_df = pd.DataFrame(cant_01.all())\n",
    "cant_01_df[\"opcion\"] = \"respuesta_01\"\n",
    "\n",
    "cant_02 = db.\\\n",
    "    query(EncServicio.respuesta_02.label(\"respuesta\"), func.count(\"*\").label(\"cantidad\")).\\\n",
    "    filter(EncServicio.respuesta_02 != None).\\\n",
    "    group_by(EncServicio.respuesta_02)\n",
    "cant_02_df = pd.DataFrame(cant_02.all())\n",
    "cant_02_df[\"opcion\"] = \"respuesta_02\"\n",
    "\n",
    "cant_03 = db.\\\n",
    "    query(EncServicio.respuesta_03.label(\"respuesta\"), func.count(\"*\").label(\"cantidad\")).\\\n",
    "    filter(EncServicio.respuesta_03 != None).\\\n",
    "    group_by(EncServicio.respuesta_03)\n",
    "cant_03_df = pd.DataFrame(cant_03.all())\n",
    "cant_03_df[\"opcion\"] = \"respuesta_03\"\n",
    "\n",
    "todo = pd.concat([cant_01_df, cant_02_df, cant_03_df])\n",
    "\n",
    "pivot_table = todo.pivot_table(index=\"respuesta\", columns=\"opcion\")\n",
    "print(pivot_table)"
   ]
  }
 ],
 "metadata": {
  "kernelspec": {
   "display_name": "Python 3.10.6 ('.venv': poetry)",
   "language": "python",
   "name": "python3"
  },
  "language_info": {
   "codemirror_mode": {
    "name": "ipython",
    "version": 3
   },
   "file_extension": ".py",
   "mimetype": "text/x-python",
   "name": "python",
   "nbconvert_exporter": "python",
   "pygments_lexer": "ipython3",
   "version": "3.10.6"
  },
  "orig_nbformat": 4,
  "vscode": {
   "interpreter": {
    "hash": "f2787a02aa38b1ec36b412ea7e57769e4bc349d4282b3653fa9e8b7afaa79b9e"
   }
  }
 },
 "nbformat": 4,
 "nbformat_minor": 2
}

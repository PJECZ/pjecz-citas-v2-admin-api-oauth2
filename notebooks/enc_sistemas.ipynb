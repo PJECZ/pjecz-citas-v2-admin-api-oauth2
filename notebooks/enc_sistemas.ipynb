{
 "cells": [
  {
   "cell_type": "markdown",
   "metadata": {},
   "source": [
    "# Encuestas Sistemas"
   ]
  },
  {
   "cell_type": "code",
   "execution_count": null,
   "metadata": {},
   "outputs": [],
   "source": [
    "# Cargar paquetes\n",
    "from datetime import datetime\n",
    "import pandas as pd\n",
    "from sqlalchemy import and_, or_\n",
    "from sqlalchemy.sql import func\n",
    "from lib.database import SessionLocal\n",
    "db = SessionLocal()"
   ]
  },
  {
   "cell_type": "code",
   "execution_count": null,
   "metadata": {},
   "outputs": [],
   "source": [
    "# Cargar modelos\n",
    "from citas_admin.v2.autoridades.models import Autoridad\n",
    "from citas_admin.v2.cit_categorias.models import CitCategoria\n",
    "from citas_admin.v2.cit_citas.models import CitCita\n",
    "from citas_admin.v2.cit_clientes.models import CitCliente\n",
    "from citas_admin.v2.cit_clientes_recuperaciones.models import CitClienteRecuperacion\n",
    "from citas_admin.v2.cit_clientes_registros.models import CitClienteRegistro\n",
    "from citas_admin.v2.cit_dias_inhabiles.models import CitDiaInhabil\n",
    "from citas_admin.v2.cit_horas_bloqueadas.models import CitHoraBloqueada\n",
    "from citas_admin.v2.cit_oficinas_servicios.models import CitOficinaServicio\n",
    "from citas_admin.v2.cit_servicios.models import CitServicio\n",
    "from citas_admin.v2.distritos.models import Distrito\n",
    "from citas_admin.v2.domicilios.models import Domicilio\n",
    "from citas_admin.v2.enc_sistemas.models import EncSistema\n",
    "from citas_admin.v2.materias.models import Materia\n",
    "from citas_admin.v2.modulos.models import Modulo\n",
    "from citas_admin.v2.oficinas.models import Oficina\n",
    "from citas_admin.v2.permisos.models import Permiso\n",
    "from citas_admin.v2.roles.models import Rol\n",
    "from citas_admin.v2.usuarios.models import Usuario\n",
    "from citas_admin.v2.usuarios_roles.models import UsuarioRol"
   ]
  },
  {
   "cell_type": "code",
   "execution_count": null,
   "metadata": {},
   "outputs": [],
   "source": [
    "enc_sistemas = db.query(\n",
    "    EncSistema.estado.label(\"estado\"),\n",
    "    func.count(\"*\").label(\"cantidad\"),\n",
    ").group_by(EncSistema.estado)\n",
    "for estado, cantidad in enc_sistemas.all():\n",
    "    print(f\"Estado {estado} tiene {cantidad}\")"
   ]
  },
  {
   "cell_type": "code",
   "execution_count": null,
   "metadata": {},
   "outputs": [],
   "source": [
    "enc_sistemas = db.\\\n",
    "    query(\n",
    "        EncSistema.respuesta_01,\n",
    "        func.count(\"*\").label(\"cantidad\"),\n",
    "    ).\\\n",
    "    filter(EncSistema.estado == \"CONTESTADO\").\\\n",
    "    group_by(EncSistema.respuesta_01)\n",
    "    \n",
    "for opcion, cantidad in enc_sistemas.all():\n",
    "    print(f\"Opcion {opcion} tiene {cantidad}\")"
   ]
  }
 ],
 "metadata": {
  "kernelspec": {
   "display_name": "Python 3.10.6 ('.venv': poetry)",
   "language": "python",
   "name": "python3"
  },
  "language_info": {
   "codemirror_mode": {
    "name": "ipython",
    "version": 3
   },
   "file_extension": ".py",
   "mimetype": "text/x-python",
   "name": "python",
   "nbconvert_exporter": "python",
   "pygments_lexer": "ipython3",
   "version": "3.10.6"
  },
  "orig_nbformat": 4,
  "vscode": {
   "interpreter": {
    "hash": "f2787a02aa38b1ec36b412ea7e57769e4bc349d4282b3653fa9e8b7afaa79b9e"
   }
  }
 },
 "nbformat": 4,
 "nbformat_minor": 2
}

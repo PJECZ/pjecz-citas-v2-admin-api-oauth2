{
 "cells": [
  {
   "cell_type": "markdown",
   "metadata": {},
   "source": [
    "# Cit Citas"
   ]
  },
  {
   "cell_type": "code",
   "execution_count": 1,
   "metadata": {},
   "outputs": [],
   "source": [
    "# Cargar paquetes\n",
    "from datetime import datetime\n",
    "import pandas as pd\n",
    "from sqlalchemy import and_, or_\n",
    "from sqlalchemy.sql import func\n",
    "from lib.database import SessionLocal\n",
    "db = SessionLocal()"
   ]
  },
  {
   "cell_type": "code",
   "execution_count": 2,
   "metadata": {},
   "outputs": [],
   "source": [
    "# Cargar modelos\n",
    "from citas_admin.v2.autoridades.models import Autoridad\n",
    "from citas_admin.v2.cit_categorias.models import CitCategoria\n",
    "from citas_admin.v2.cit_citas.models import CitCita\n",
    "from citas_admin.v2.cit_clientes.models import CitCliente\n",
    "from citas_admin.v2.cit_clientes_recuperaciones.models import CitClienteRecuperacion\n",
    "from citas_admin.v2.cit_clientes_registros.models import CitClienteRegistro\n",
    "from citas_admin.v2.cit_dias_inhabiles.models import CitDiaInhabil\n",
    "from citas_admin.v2.cit_horas_bloqueadas.models import CitHoraBloqueada\n",
    "from citas_admin.v2.cit_oficinas_servicios.models import CitOficinaServicio\n",
    "from citas_admin.v2.cit_servicios.models import CitServicio\n",
    "from citas_admin.v2.distritos.models import Distrito\n",
    "from citas_admin.v2.domicilios.models import Domicilio\n",
    "from citas_admin.v2.materias.models import Materia\n",
    "from citas_admin.v2.modulos.models import Modulo\n",
    "from citas_admin.v2.oficinas.models import Oficina\n",
    "from citas_admin.v2.permisos.models import Permiso\n",
    "from citas_admin.v2.roles.models import Rol\n",
    "from citas_admin.v2.usuarios.models import Usuario\n",
    "from citas_admin.v2.usuarios_roles.models import UsuarioRol"
   ]
  },
  {
   "cell_type": "code",
   "execution_count": 3,
   "metadata": {},
   "outputs": [
    {
     "name": "stdout",
     "output_type": "stream",
     "text": [
      "SELECT oficinas.clave AS oficina, cit_servicios.clave AS servicio, count(%(count_1)s) AS cantidad \n",
      "FROM cit_citas JOIN cit_servicios ON cit_servicios.id = cit_citas.cit_servicio_id JOIN oficinas ON oficinas.id = cit_citas.oficina_id \n",
      "WHERE cit_citas.estatus = %(estatus_1)s AND (cit_citas.estado = %(estado_1)s OR cit_citas.estado = %(estado_2)s) AND cit_citas.inicio >= %(inicio_1)s AND cit_citas.inicio <= %(inicio_2)s AND cit_servicios.estatus = %(estatus_2)s AND oficinas.estatus = %(estatus_3)s GROUP BY oficinas.clave, cit_servicios.clave\n"
     ]
    }
   ],
   "source": [
    "# Calcular cantidades de citas por oficina y servicio\n",
    "inicio_desde = datetime(2022, 8, 1, 0, 0, 0)\n",
    "inicio_hasta = datetime(2022, 8, 5, 23, 59, 59)\n",
    "matriz = db.\\\n",
    "    query(\n",
    "        Oficina.clave.label(\"oficina\"),\n",
    "        CitServicio.clave.label(\"servicio\"),\n",
    "        func.count(\"*\").label(\"cantidad\"),\n",
    "    ).\\\n",
    "    select_from(CitCita).join(CitServicio, Oficina).\\\n",
    "    filter(CitCita.estatus == \"A\").\\\n",
    "    filter(or_(CitCita.estado == \"ASISTIO\", CitCita.estado == \"PENDIENTE\")).\\\n",
    "    filter(CitCita.inicio >= inicio_desde).\\\n",
    "    filter(CitCita.inicio <= inicio_hasta).\\\n",
    "    filter(CitServicio.estatus == \"A\").\\\n",
    "    filter(Oficina.estatus == \"A\").\\\n",
    "    group_by(Oficina.clave, CitServicio.clave)\n",
    "print(matriz)"
   ]
  },
  {
   "cell_type": "code",
   "execution_count": 4,
   "metadata": {},
   "outputs": [
    {
     "name": "stdout",
     "output_type": "stream",
     "text": [
      "<class 'pandas.core.frame.DataFrame'>\n",
      "RangeIndex: 190 entries, 0 to 189\n",
      "Data columns (total 3 columns):\n",
      " #   Column    Non-Null Count  Dtype   \n",
      "---  ------    --------------  -----   \n",
      " 0   oficina   190 non-null    category\n",
      " 1   servicio  190 non-null    category\n",
      " 2   cantidad  190 non-null    int64   \n",
      "dtypes: category(2), int64(1)\n",
      "memory usage: 4.9 KB\n",
      "None\n"
     ]
    }
   ],
   "source": [
    "# Create dataframe from query\n",
    "df = pd.read_sql(matriz.statement, db.bind)\n",
    "df.oficina = df.oficina.astype(\"category\")\n",
    "df.servicio = df.servicio.astype(\"category\")\n",
    "# Show info\n",
    "print(df.info())"
   ]
  },
  {
   "cell_type": "code",
   "execution_count": 5,
   "metadata": {},
   "outputs": [
    {
     "name": "stdout",
     "output_type": "stream",
     "text": [
      "servicio         CHECER  CITAACT  CITJUE  DEVDOC  ENTDEMANE  EXPCOP  EXPCS  \\\n",
      "oficina                                                                      \n",
      "ACN-J-M-CIV-FAM       0        2       2       1          0       0      0   \n",
      "ACN-J-PEN-O           0        0       0       0          0       0      0   \n",
      "DACU35-01JF           1        3       0       0          0       0      0   \n",
      "DACU35-AREG           0        0       0       0          0       0      0   \n",
      "DMON25-01JC           0        1       0       0          0       0      0   \n",
      "DMON25-01JF           0        0       0       0          0       0      0   \n",
      "DMON25-02JC           0        0       0       0          0       0      0   \n",
      "DMON25-02JF           1        2       1       0          0       0      0   \n",
      "DMON25-03JC           0        1       0       0          0       0      0   \n",
      "DMON25-03JF           0        2       0       0          0       0      0   \n",
      "DMON25-04JF           0        1       1       0          0       0      0   \n",
      "DMON25-AR             0        0       0       0          0       1      0   \n",
      "DRGR30-01JC           0        0       0       0          0       0      0   \n",
      "DSAB42-AREG           0        0       0       0          0       0      0   \n",
      "DSAB43-01JFO          0       12       0       0          0       0      0   \n",
      "DSAL02-01JC           0        1       0       0          0       1      0   \n",
      "DSAL02-01JF           1       19       8       3          0       4      0   \n",
      "DSAL02-02JC           1        3       1       3          0       4      0   \n",
      "DSAL02-02JF           0        0       2       0          0       2      0   \n",
      "DSAL02-03JC           0        3       2       1          0       3      0   \n",
      "DSAL02-03JF           3       15       6       0          0       6      0   \n",
      "DSAL02-04JC           0        8       3       1          0       0      1   \n",
      "DSAL02-04JF           0       20       2       3          0       4      2   \n",
      "DSAL02-05JC           0        0       0       0          0       0      0   \n",
      "DSAL02-05JH           0        0       0       0          0       0      0   \n",
      "DSAL02-JAF            0        6       0       1          0       4      0   \n",
      "DSAL02-OCP            0        0       0       0         62       0      0   \n",
      "DSAL03-01JM           0        1       0       4          0       0      0   \n",
      "DSAL03-02JM           0        2       0       4          0       0      0   \n",
      "DSAL03-03JM           0        2       0       2          0       0      0   \n",
      "DSAL03-OPJM           0        0       0       0         13       0      1   \n",
      "DSAL04-01JLC          1        2       0       1          0       0      0   \n",
      "DSAL04-02JLC          0        1       1       1          0       0      0   \n",
      "DSAL04-OPJL           1        0       0       0          8       0      0   \n",
      "DSAL04-TCA            0        0       0       0          0       0      1   \n",
      "DSAL06-01JEVFCM       0        0       0       0          0       0      0   \n",
      "DSAL06-01JPPTR        0        0       0       0          0       0      0   \n",
      "DSAL08-AG             0        0       0       0          0       8      9   \n",
      "DSPC38-01JF           0        0       0       0          0       0      0   \n",
      "DSPC38-OCP            0        0       0       0          0       0      0   \n",
      "DTOR16-01JC           0        0       0       0          0       0      0   \n",
      "DTOR16-01JM           2        1       1       6          0       0      0   \n",
      "DTOR16-02JC           0        0       0       0          0       0      0   \n",
      "DTOR16-02JLC          0        0       0       0          0       0      0   \n",
      "DTOR16-02JM           0        0       0       0          0       0      0   \n",
      "DTOR16-03JC           0        0       0       0          0       0      0   \n",
      "DTOR16-03JLC          0        0       0       0          0       0      0   \n",
      "DTOR16-03JM           0        0       1       0          0       0      0   \n",
      "DTOR16-04JC           0        0       1       0          0       0      0   \n",
      "DTOR17-01JF           0        0       2       0          0       0      0   \n",
      "DTOR17-03JF           0        0       0       0          0       0      0   \n",
      "DTOR17-04JF           0        0       2       0          0       0      0   \n",
      "DTOR17-05JF           0        0       0       0          0       0      0   \n",
      "PRR-J-CIV-FAM         0        0       1       0          0       0      0   \n",
      "SBN-J-CIV-FAM         0       10       0       1          0       0      0   \n",
      "SLT-J-MER             0        0       0       3          0       1      0   \n",
      "SLT-J-MPAO            0        1       0       0          0       1      0   \n",
      "SLT-J-PEN             0        0       0       0          0       0      0   \n",
      "SPD-J-CIV-FAM         0        1       0       2          0       0      0   \n",
      "TRC-J-MPAO            0        0       0       0          0       0      0   \n",
      "\n",
      "servicio         RATIFIC  REVEXP  TRAOFI  \n",
      "oficina                                   \n",
      "ACN-J-M-CIV-FAM        0      23       1  \n",
      "ACN-J-PEN-O            0       2       0  \n",
      "DACU35-01JF            0      29       1  \n",
      "DACU35-AREG            0       1       0  \n",
      "DMON25-01JC            1      28       2  \n",
      "DMON25-01JF            2       6       0  \n",
      "DMON25-02JC            1      35       1  \n",
      "DMON25-02JF            2      24       3  \n",
      "DMON25-03JC            0      16       0  \n",
      "DMON25-03JF            5      16       1  \n",
      "DMON25-04JF            2      20       0  \n",
      "DMON25-AR              0       1       0  \n",
      "DRGR30-01JC            2       0       0  \n",
      "DSAB42-AREG            0      19       0  \n",
      "DSAB43-01JFO           0       2       2  \n",
      "DSAL02-01JC            0      51       5  \n",
      "DSAL02-01JF           13     255      12  \n",
      "DSAL02-02JC            2      80       1  \n",
      "DSAL02-02JF            0      35       3  \n",
      "DSAL02-03JC            3     103       4  \n",
      "DSAL02-03JF           17     187      15  \n",
      "DSAL02-04JC            3     101       6  \n",
      "DSAL02-04JF           24     197       7  \n",
      "DSAL02-05JC            0       1       0  \n",
      "DSAL02-05JH            0       3       0  \n",
      "DSAL02-JAF             2      72       7  \n",
      "DSAL02-OCP             0       1       0  \n",
      "DSAL03-01JM            1      73       5  \n",
      "DSAL03-02JM            2      62       3  \n",
      "DSAL03-03JM            0      39       3  \n",
      "DSAL03-OPJM            0       6       1  \n",
      "DSAL04-01JLC           0      11       0  \n",
      "DSAL04-02JLC           0       8       0  \n",
      "DSAL04-OPJL            0       3       1  \n",
      "DSAL04-TCA             1      17       0  \n",
      "DSAL06-01JEVFCM        0       5       0  \n",
      "DSAL06-01JPPTR         0       1       0  \n",
      "DSAL08-AG              0      15       0  \n",
      "DSPC38-01JF            3       4       0  \n",
      "DSPC38-OCP             0       1       0  \n",
      "DTOR16-01JC            1       0       0  \n",
      "DTOR16-01JM            0      12      29  \n",
      "DTOR16-02JC            1       1       0  \n",
      "DTOR16-02JLC           0       3       0  \n",
      "DTOR16-02JM            0       3       0  \n",
      "DTOR16-03JC            0       1       0  \n",
      "DTOR16-03JLC           0       3       0  \n",
      "DTOR16-03JM            0       4       0  \n",
      "DTOR16-04JC            0       1       0  \n",
      "DTOR17-01JF            1       0       0  \n",
      "DTOR17-03JF            0       1       0  \n",
      "DTOR17-04JF            0       0       0  \n",
      "DTOR17-05JF            0       0       1  \n",
      "PRR-J-CIV-FAM          0       1       0  \n",
      "SBN-J-CIV-FAM          3       2       5  \n",
      "SLT-J-MER              0      11       1  \n",
      "SLT-J-MPAO             0      20       0  \n",
      "SLT-J-PEN              0       1       0  \n",
      "SPD-J-CIV-FAM          3       9       2  \n",
      "TRC-J-MPAO             0      12       0  \n"
     ]
    }
   ],
   "source": [
    "# Create pivot table\n",
    "pivot = pd.pivot_table(df, index=\"oficina\", columns=\"servicio\", values=\"cantidad\", aggfunc=sum)\n",
    "print(pivot)"
   ]
  }
 ],
 "metadata": {
  "kernelspec": {
   "display_name": "Python 3.10.6 ('.venv': poetry)",
   "language": "python",
   "name": "python3"
  },
  "language_info": {
   "codemirror_mode": {
    "name": "ipython",
    "version": 3
   },
   "file_extension": ".py",
   "mimetype": "text/x-python",
   "name": "python",
   "nbconvert_exporter": "python",
   "pygments_lexer": "ipython3",
   "version": "3.10.6"
  },
  "orig_nbformat": 4,
  "vscode": {
   "interpreter": {
    "hash": "f2787a02aa38b1ec36b412ea7e57769e4bc349d4282b3653fa9e8b7afaa79b9e"
   }
  }
 },
 "nbformat": 4,
 "nbformat_minor": 2
}

{
 "cells": [
  {
   "cell_type": "markdown",
   "metadata": {},
   "source": [
    "# Cit Citas"
   ]
  },
  {
   "cell_type": "code",
   "execution_count": 1,
   "metadata": {},
   "outputs": [],
   "source": [
    "# Cargar paquetes\n",
    "from datetime import datetime\n",
    "import pandas as pd\n",
    "from sqlalchemy.sql import func\n",
    "from lib.database import SessionLocal\n",
    "db = SessionLocal()"
   ]
  },
  {
   "cell_type": "code",
   "execution_count": 2,
   "metadata": {},
   "outputs": [],
   "source": [
    "# Cargar modelos\n",
    "from citas_admin.v2.autoridades.models import Autoridad\n",
    "from citas_admin.v2.cit_categorias.models import CitCategoria\n",
    "from citas_admin.v2.cit_citas.models import CitCita\n",
    "from citas_admin.v2.cit_clientes.models import CitCliente\n",
    "from citas_admin.v2.cit_clientes_recuperaciones.models import CitClienteRecuperacion\n",
    "from citas_admin.v2.cit_clientes_registros.models import CitClienteRegistro\n",
    "from citas_admin.v2.cit_dias_inhabiles.models import CitDiaInhabil\n",
    "from citas_admin.v2.cit_horas_bloqueadas.models import CitHoraBloqueada\n",
    "from citas_admin.v2.cit_oficinas_servicios.models import CitOficinaServicio\n",
    "from citas_admin.v2.cit_servicios.models import CitServicio\n",
    "from citas_admin.v2.distritos.models import Distrito\n",
    "from citas_admin.v2.domicilios.models import Domicilio\n",
    "from citas_admin.v2.materias.models import Materia\n",
    "from citas_admin.v2.modulos.models import Modulo\n",
    "from citas_admin.v2.oficinas.models import Oficina\n",
    "from citas_admin.v2.permisos.models import Permiso\n",
    "from citas_admin.v2.roles.models import Rol\n",
    "from citas_admin.v2.usuarios.models import Usuario\n",
    "from citas_admin.v2.usuarios_roles.models import UsuarioRol"
   ]
  },
  {
   "cell_type": "code",
   "execution_count": 3,
   "metadata": {},
   "outputs": [
    {
     "name": "stdout",
     "output_type": "stream",
     "text": [
      "SELECT oficinas.clave AS oficina, cit_servicios.clave AS servicio, count(%(count_1)s) AS cantidad \n",
      "FROM cit_citas JOIN cit_servicios ON cit_servicios.id = cit_citas.cit_servicio_id JOIN oficinas ON oficinas.id = cit_citas.oficina_id \n",
      "WHERE cit_citas.estatus = %(estatus_1)s AND cit_citas.inicio >= %(inicio_1)s AND cit_citas.inicio <= %(inicio_2)s AND cit_servicios.estatus = %(estatus_2)s AND oficinas.estatus = %(estatus_3)s GROUP BY oficinas.clave, cit_servicios.clave\n",
      "[('ACN-J-M-CIV-FAM', 'CITAACT', 2), ('ACN-J-M-CIV-FAM', 'CITJUE', 2), ('ACN-J-M-CIV-FAM', 'DEVDOC', 2), ('ACN-J-M-CIV-FAM', 'REVEXP', 24), ('ACN-J-M-CIV-FAM', 'TRAOFI', 2)]\n"
     ]
    }
   ],
   "source": [
    "# Calcular cantidades de citas por oficina y servicio\n",
    "inicio_desde = datetime(2022, 8, 1, 0, 0, 0)\n",
    "inicio_hasta = datetime(2022, 8, 5, 23, 59, 59)\n",
    "matriz = db.\\\n",
    "    query(\n",
    "        Oficina.clave.label(\"oficina\"),\n",
    "        CitServicio.clave.label(\"servicio\"),\n",
    "        func.count(\"*\").label(\"cantidad\"),\n",
    "    ).\\\n",
    "    select_from(CitCita).join(CitServicio, Oficina).\\\n",
    "    filter(CitCita.estatus == \"A\").\\\n",
    "    filter(CitCita.inicio >= inicio_desde).\\\n",
    "    filter(CitCita.inicio <= inicio_hasta).\\\n",
    "    filter(CitServicio.estatus == \"A\").\\\n",
    "    filter(Oficina.estatus == \"A\").\\\n",
    "    group_by(Oficina.clave, CitServicio.clave)\n",
    "print(matriz)\n",
    "print(matriz.limit(5).all())"
   ]
  }
 ],
 "metadata": {
  "kernelspec": {
   "display_name": "Python 3.10.6 ('.venv': poetry)",
   "language": "python",
   "name": "python3"
  },
  "language_info": {
   "codemirror_mode": {
    "name": "ipython",
    "version": 3
   },
   "file_extension": ".py",
   "mimetype": "text/x-python",
   "name": "python",
   "nbconvert_exporter": "python",
   "pygments_lexer": "ipython3",
   "version": "3.10.6"
  },
  "orig_nbformat": 4,
  "vscode": {
   "interpreter": {
    "hash": "f2787a02aa38b1ec36b412ea7e57769e4bc349d4282b3653fa9e8b7afaa79b9e"
   }
  }
 },
 "nbformat": 4,
 "nbformat_minor": 2
}
